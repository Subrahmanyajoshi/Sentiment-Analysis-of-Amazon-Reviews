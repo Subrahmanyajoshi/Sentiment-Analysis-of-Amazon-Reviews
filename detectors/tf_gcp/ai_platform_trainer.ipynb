{
 "cells": [
  {
   "cell_type": "markdown",
   "metadata": {},
   "source": [
    "# Training Tensorflow model on Google Cloud AI Platform"
   ]
  },
  {
   "cell_type": "code",
   "execution_count": 1,
   "metadata": {},
   "outputs": [],
   "source": [
    "!sudo chown -R jupyter:jupyter /home/jupyter/Amazon-Reviews-Analysis"
   ]
  },
  {
   "cell_type": "code",
   "execution_count": 2,
   "metadata": {},
   "outputs": [],
   "source": [
    "import os"
   ]
  },
  {
   "cell_type": "code",
   "execution_count": 3,
   "metadata": {},
   "outputs": [],
   "source": [
    "PROJECT = 'text-analysis-323506'\n",
    "REGION = 'us-west1-b'\n",
    "BUCKET = 'text-analysis-323506'"
   ]
  },
  {
   "cell_type": "code",
   "execution_count": 4,
   "metadata": {},
   "outputs": [],
   "source": [
    "os.environ['BUCKET'] = BUCKET\n",
    "os.environ['PROJECT'] = PROJECT\n",
    "os.environ['REGION'] = REGION\n",
    "os.environ['TFVERSION'] = '2.6'"
   ]
  },
  {
   "cell_type": "code",
   "execution_count": 5,
   "metadata": {},
   "outputs": [
    {
     "name": "stderr",
     "output_type": "stream",
     "text": [
      "Updated property [core/project].\n",
      "WARNING: You do not appear to have access to project [text-analysis-323506] or it does not exist.\n",
      "Updated property [compute/region].\n",
      "WARNING: us-west1-b is not a valid region. Run `gcloud compute regions list`to get all regions.\n"
     ]
    }
   ],
   "source": [
    "%%bash\n",
    "gcloud config set project $PROJECT\n",
    "gcloud config set compute/region $REGION"
   ]
  },
  {
   "cell_type": "markdown",
   "metadata": {},
   "source": [
    "## Submit Training job to Google Cloud Ai Platform"
   ]
  },
  {
   "cell_type": "code",
   "execution_count": 16,
   "metadata": {},
   "outputs": [
    {
     "name": "stdout",
     "output_type": "stream",
     "text": [
      "us-west1 breastcancer_210725_165743\n",
      "jobId: breastcancer_210725_165743\n",
      "state: QUEUED\n"
     ]
    },
    {
     "name": "stderr",
     "output_type": "stream",
     "text": [
      "Copying file://../../config/config.yaml [Content-Type=application/octet-stream]...\n",
      "Copying file://../../config/.ipynb_checkpoints/config-checkpoint.yaml [Content-Type=application/octet-stream]...\n",
      "/ [2/2 files][  2.9 KiB/  2.9 KiB] 100% Done                                    \n",
      "Operation completed over 2 objects/2.9 KiB.                                      \n",
      "Job [breastcancer_210725_165743] submitted successfully.\n",
      "Your job is still active. You may view the status of your job with the command\n",
      "\n",
      "  $ gcloud ai-platform jobs describe breastcancer_210725_165743\n",
      "\n",
      "or continue streaming the logs with the command\n",
      "\n",
      "  $ gcloud ai-platform jobs stream-logs breastcancer_210725_165743\n"
     ]
    }
   ],
   "source": [
    "%%bash\n",
    "\n",
    "# Move latest config file to google storage bucket\n",
    "gsutil -m cp -r ../../config gs://$BUCKET\n",
    "\n",
    "# Set PYTHONPATH enviornment variable\n",
    "export PYTHONPATH=${PYTHONPATH}:/home/jupyter/Amazon-Reviews-Analysis\n",
    "\n",
    "# Specify a unique name for the job.\n",
    "JOBNAME=sentiment_analysis_$(date -u +%y%m%d_%H%M%S)\n",
    "echo $REGION $JOBNAME\n",
    "\n",
    "# Submit training job\n",
    "gcloud ai-platform jobs submit training $JOBNAME \\\n",
    "  --region=$REGION \\\n",
    "  --module-name=detectors.tf_gcp.trainer.task \\\n",
    "  --package-path=/home/jupyter/Amazon-Reviews-Analysis/ \\\n",
    "  --job-dir=gs://$BUCKET \\\n",
    "  --staging-bucket=gs://$BUCKET \\\n",
    "  --scale-tier=BASIC_GPU \\\n",
    "  --runtime-version=2.3 \\\n",
    "  --python-version=3.7 \\\n",
    "  -- \\\n",
    "  --train-config=gs://$BUCKET/config/config.yaml"
   ]
  },
  {
   "cell_type": "code",
   "execution_count": null,
   "metadata": {},
   "outputs": [],
   "source": [
    "# Running TensorBoard\n",
    "# Open the port you are supposed to use (usually 6006) in Google cloud vm instance\n",
    "# info -> https://docs.bitnami.com/google/faq/administration/use-firewall/\n",
    "# Run tensorboard using following command\n",
    "# tensorboard --logdir <path/to/log/directory> --bind_all\n",
    "# Ex:\n",
    "# tensorboard --logdir gs://vernal-buffer-285906/train_results/tensorboard --bind_all"
   ]
  },
  {
   "cell_type": "code",
   "execution_count": null,
   "metadata": {},
   "outputs": [],
   "source": []
  }
 ],
 "metadata": {
  "environment": {
   "name": "tf2-gpu.2-6.m78",
   "type": "gcloud",
   "uri": "gcr.io/deeplearning-platform-release/tf2-gpu.2-6:m78"
  },
  "kernelspec": {
   "display_name": "Python 3",
   "language": "python",
   "name": "python3"
  },
  "language_info": {
   "codemirror_mode": {
    "name": "ipython",
    "version": 3
   },
   "file_extension": ".py",
   "mimetype": "text/x-python",
   "name": "python",
   "nbconvert_exporter": "python",
   "pygments_lexer": "ipython3",
   "version": "3.7.10"
  }
 },
 "nbformat": 4,
 "nbformat_minor": 4
}
