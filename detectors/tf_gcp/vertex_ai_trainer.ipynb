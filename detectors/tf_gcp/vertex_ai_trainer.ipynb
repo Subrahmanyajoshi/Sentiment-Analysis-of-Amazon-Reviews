{
 "cells": [
  {
   "cell_type": "markdown",
   "metadata": {},
   "source": [
    "# Training Tensorflow model on Google Cloud Vertex AI"
   ]
  },
  {
   "cell_type": "code",
   "execution_count": 13,
   "metadata": {},
   "outputs": [],
   "source": [
    "!sudo chown -R jupyter:jupyter /home/jupyter/Sentiment-Analysis-of-Amazon-Reviews"
   ]
  },
  {
   "cell_type": "code",
   "execution_count": 14,
   "metadata": {},
   "outputs": [],
   "source": [
    "import os"
   ]
  },
  {
   "cell_type": "code",
   "execution_count": 15,
   "metadata": {},
   "outputs": [],
   "source": [
    "ENV_VARS = {'PROJECT': 'text-analysis-323506',\n",
    "            'REGION': 'us-central1',\n",
    "            'BUCKET': 'text-analysis-323506',\n",
    "            'MACHINE_TYPE': 'n1-highmem-4',\n",
    "            'REPLICA_COUNT': 1,\n",
    "            'EXECUTE_IMAGE_URI': 'us-docker.pkg.dev/vertex-ai/training/tf-gpu.2-8:latest',\n",
    "            'LOCAL_PACKAGE_PATH': '/home/jupyter/Sentiment-Analysis-of-Amazon-Reviews/',\n",
    "            'PYTHON_MODULE': 'detectors.tf_gcp.trainer.task'}"
   ]
  },
  {
   "cell_type": "code",
   "execution_count": 16,
   "metadata": {},
   "outputs": [],
   "source": [
    "for key, value in ENV_VARS.items():\n",
    "    os.environ[key] = str(value)"
   ]
  },
  {
   "cell_type": "code",
   "execution_count": 17,
   "metadata": {},
   "outputs": [
    {
     "name": "stderr",
     "output_type": "stream",
     "text": [
      "Updated property [core/project].\n",
      "Updated property [compute/region].\n"
     ]
    }
   ],
   "source": [
    "%%bash\n",
    "gcloud config set project $PROJECT\n",
    "gcloud config set compute/region $REGION"
   ]
  },
  {
   "cell_type": "markdown",
   "metadata": {},
   "source": [
    "## Submit Training job to Google Cloud Ai Platform"
   ]
  },
  {
   "cell_type": "code",
   "execution_count": 18,
   "metadata": {},
   "outputs": [
    {
     "name": "stdout",
     "output_type": "stream",
     "text": [
      "us-west1 sentiment_analysis_210912_123115\n",
      "jobId: sentiment_analysis_210912_123115\n",
      "state: QUEUED\n"
     ]
    },
    {
     "name": "stderr",
     "output_type": "stream",
     "text": [
      "Copying file://../../config/config.yaml [Content-Type=application/octet-stream]...\n",
      "Copying file://../../config/.ipynb_checkpoints/config-checkpoint.yaml [Content-Type=application/octet-stream]...\n",
      "/ [2/2 files][  3.0 KiB/  3.0 KiB] 100% Done                                    \n",
      "Operation completed over 2 objects/3.0 KiB.                                      \n",
      "Job [sentiment_analysis_210912_123115] submitted successfully.\n",
      "Your job is still active. You may view the status of your job with the command\n",
      "\n",
      "  $ gcloud ai-platform jobs describe sentiment_analysis_210912_123115\n",
      "\n",
      "or continue streaming the logs with the command\n",
      "\n",
      "  $ gcloud ai-platform jobs stream-logs sentiment_analysis_210912_123115\n"
     ]
    }
   ],
   "source": [
    "%%bash\n",
    "\n",
    "# Move latest config file to google storage bucket\n",
    "gsutil -m cp -r ../../config gs://$BUCKET\n",
    "\n",
    "# Specify a unique name for the job.\n",
    "JOBNAME=sentiment_analysis_$(date -u +%y%m%d_%H%M%S)\n",
    "echo $REGION $JOBNAME\n",
    "\n",
    "# Submit training job\n",
    "gcloud ai custom-jobs create \\\n",
    "    --region=$REGION \\\n",
    "    --display-name=$JOBNAME \\\n",
    "    --worker-pool-spec=machine-type=$MACHINE_TYPE,replica-count=$REPLICA_COUNT,executor-image-uri=$EXECUTE_IMAGE_URI,local-package-path=$LOCAL_PACKAGE_PATH,python-module=$PYTHON_MODULE\n",
    "    --args=--train-config=gs://$BUCKET/config/config.yaml"
   ]
  },
  {
   "cell_type": "code",
   "execution_count": null,
   "metadata": {},
   "outputs": [],
   "source": [
    "# Running TensorBoard\n",
    "# Open the port you are supposed to use (usually 6006) in Google cloud vm instance\n",
    "# info -> https://docs.bitnami.com/google/faq/administration/use-firewall/\n",
    "# Run tensorboard using following command\n",
    "# tensorboard --logdir <path/to/log/directory> --bind_all\n",
    "# Ex:\n",
    "# tensorboard --logdir gs://text-analysis-323506/train_results/tensorboard --bind_all"
   ]
  },
  {
   "cell_type": "code",
   "execution_count": null,
   "metadata": {},
   "outputs": [],
   "source": []
  }
 ],
 "metadata": {
  "environment": {
   "name": "tf2-gpu.2-6.m79",
   "type": "gcloud",
   "uri": "gcr.io/deeplearning-platform-release/tf2-gpu.2-6:m79"
  },
  "kernelspec": {
   "display_name": "Python 3",
   "language": "python",
   "name": "python3"
  },
  "language_info": {
   "codemirror_mode": {
    "name": "ipython",
    "version": 3
   },
   "file_extension": ".py",
   "mimetype": "text/x-python",
   "name": "python",
   "nbconvert_exporter": "python",
   "pygments_lexer": "ipython3",
   "version": "3.8.8"
  }
 },
 "nbformat": 4,
 "nbformat_minor": 4
}
