{
 "cells": [
  {
   "cell_type": "code",
   "execution_count": 39,
   "id": "2a6052b3-ea66-4968-a1f4-74d9ef1e39d5",
   "metadata": {},
   "outputs": [],
   "source": [
    "import pandas as pd\n",
    "import numpy as np\n",
    "\n",
    "from argparse import Namespace\n",
    "from matplotlib import pyplot as plt\n",
    "from tensorflow.keras.preprocessing import sequence\n",
    "from tensorflow.keras.preprocessing.text import Tokenizer\n",
    "import sys\n",
    "\n",
    "sys.path.append('..')\n",
    "from detectors.tf_gcp.trainer.models.models import CNNModel\n",
    "from detectors.tf_gcp.trainer.data_ops.data_generator import DataGenerator"
   ]
  },
  {
   "cell_type": "code",
   "execution_count": 2,
   "id": "9811e1b9-5e9d-4dd9-ae9f-c6dd63e5f6e8",
   "metadata": {},
   "outputs": [],
   "source": [
    "train_df = pd.read_csv('../sample_data/train_text.csv')\n",
    "val_df = pd.read_csv('../sample_data/val_text.csv')"
   ]
  },
  {
   "cell_type": "code",
   "execution_count": 3,
   "id": "71892e80-d345-4fe1-8d25-6bbf85af4cc1",
   "metadata": {},
   "outputs": [
    {
     "data": {
      "text/html": [
       "<div>\n",
       "<style scoped>\n",
       "    .dataframe tbody tr th:only-of-type {\n",
       "        vertical-align: middle;\n",
       "    }\n",
       "\n",
       "    .dataframe tbody tr th {\n",
       "        vertical-align: top;\n",
       "    }\n",
       "\n",
       "    .dataframe thead th {\n",
       "        text-align: right;\n",
       "    }\n",
       "</style>\n",
       "<table border=\"1\" class=\"dataframe\">\n",
       "  <thead>\n",
       "    <tr style=\"text-align: right;\">\n",
       "      <th></th>\n",
       "      <th>input</th>\n",
       "      <th>labels</th>\n",
       "    </tr>\n",
       "  </thead>\n",
       "  <tbody>\n",
       "    <tr>\n",
       "      <th>0</th>\n",
       "      <td>don't waste your time or money!: This movie wi...</td>\n",
       "      <td>1</td>\n",
       "    </tr>\n",
       "    <tr>\n",
       "      <th>1</th>\n",
       "      <td>Just walk away: I expected this book to be mor...</td>\n",
       "      <td>1</td>\n",
       "    </tr>\n",
       "    <tr>\n",
       "      <th>2</th>\n",
       "      <td>Love mash: Mash is great but why is it a 1-4 C...</td>\n",
       "      <td>1</td>\n",
       "    </tr>\n",
       "    <tr>\n",
       "      <th>3</th>\n",
       "      <td>Old Rehashed NFL Films Footage.: I bought this...</td>\n",
       "      <td>1</td>\n",
       "    </tr>\n",
       "    <tr>\n",
       "      <th>4</th>\n",
       "      <td>Satisfied: Good enough. It is indeed snug, and...</td>\n",
       "      <td>0</td>\n",
       "    </tr>\n",
       "  </tbody>\n",
       "</table>\n",
       "</div>"
      ],
      "text/plain": [
       "                                               input  labels\n",
       "0  don't waste your time or money!: This movie wi...       1\n",
       "1  Just walk away: I expected this book to be mor...       1\n",
       "2  Love mash: Mash is great but why is it a 1-4 C...       1\n",
       "3  Old Rehashed NFL Films Footage.: I bought this...       1\n",
       "4  Satisfied: Good enough. It is indeed snug, and...       0"
      ]
     },
     "execution_count": 3,
     "metadata": {},
     "output_type": "execute_result"
    }
   ],
   "source": [
    "train_df.head()"
   ]
  },
  {
   "cell_type": "code",
   "execution_count": 29,
   "id": "6d940c74-006f-4220-bde7-4fce92fb6d54",
   "metadata": {},
   "outputs": [
    {
     "name": "stdout",
     "output_type": "stream",
     "text": [
      "5000 1000\n"
     ]
    }
   ],
   "source": [
    "print(len(train_df), len(val_df))"
   ]
  },
  {
   "cell_type": "code",
   "execution_count": null,
   "id": "6d05cd7b-4ed8-4eb2-a187-6dd1a3f4cd9a",
   "metadata": {},
   "outputs": [],
   "source": [
    "TOP_K = 20000\n",
    "MAX_SEQUENCE_LENGTH = 500"
   ]
  },
  {
   "cell_type": "code",
   "execution_count": 7,
   "id": "da0168b7-2c4d-4a7d-b2f5-d0a2e609600c",
   "metadata": {},
   "outputs": [],
   "source": [
    "tokenizer = Tokenizer(num_words=TOP_K)"
   ]
  },
  {
   "cell_type": "code",
   "execution_count": 8,
   "id": "14e5e52c-8024-4d70-ac01-9fd0e7c271e6",
   "metadata": {},
   "outputs": [],
   "source": [
    "lines = list(train_df['input']) + list(val_df['input'])"
   ]
  },
  {
   "cell_type": "code",
   "execution_count": 9,
   "id": "0506c4ed-2eef-419c-a33f-9f0d9aeb8eb3",
   "metadata": {},
   "outputs": [],
   "source": [
    "tokenizer.fit_on_texts(lines)"
   ]
  },
  {
   "cell_type": "code",
   "execution_count": 10,
   "id": "d00d3a26-dbbb-4598-bf2e-5ae03a36618a",
   "metadata": {},
   "outputs": [],
   "source": [
    "X_train = tokenizer.texts_to_sequences(list(train_df['input']))\n",
    "X_val = tokenizer.texts_to_sequences(list(val_df['input']))"
   ]
  },
  {
   "cell_type": "code",
   "execution_count": 11,
   "id": "437cbcee-b54f-43a1-9475-02601e1ddb43",
   "metadata": {},
   "outputs": [],
   "source": [
    "X_train = sequence.pad_sequences(X_train, maxlen=MAX_SEQUENCE_LENGTH)\n",
    "X_val = sequence.pad_sequences(X_val, maxlen=MAX_SEQUENCE_LENGTH)"
   ]
  },
  {
   "cell_type": "code",
   "execution_count": 14,
   "id": "38b885e3-43db-4551-a293-4dd5066749e0",
   "metadata": {},
   "outputs": [],
   "source": [
    "y_train = np.array(train_df['labels'])\n",
    "y_val = np.array(val_df['labels'])"
   ]
  },
  {
   "cell_type": "code",
   "execution_count": 19,
   "id": "1fbefd4a-6cea-4b12-8add-2913e3d34f64",
   "metadata": {},
   "outputs": [],
   "source": [
    "num_features = min(len(tokenizer.word_index) + 1, TOP_K)"
   ]
  },
  {
   "cell_type": "code",
   "execution_count": 25,
   "id": "6e5f5c51-9d11-4a8a-9844-6c768f8eddb4",
   "metadata": {},
   "outputs": [
    {
     "name": "stdout",
     "output_type": "stream",
     "text": [
      "[CNNModel::build] Building CNN model\n"
     ]
    },
    {
     "name": "stderr",
     "output_type": "stream",
     "text": [
      "2021-12-10 17:32:20.453740: I tensorflow/core/common_runtime/process_util.cc:146] Creating new thread pool with default inter op setting: 2. Tune using inter_op_parallelism_threads for best performance.\n"
     ]
    }
   ],
   "source": [
    "Model = CNNModel(num_features=num_features,\n",
    "                 max_sequence_length=MAX_SEQUENCE_LENGTH).build(Namespace(**{'optimizer': 'adam', 'loss': \"binary_crossentropy\", 'metrics': [\"accuracy\"],'embedding_dim': 200}))"
   ]
  },
  {
   "cell_type": "code",
   "execution_count": 26,
   "id": "e5ccd483-219a-430a-90e4-bc79754ab0db",
   "metadata": {},
   "outputs": [
    {
     "name": "stdout",
     "output_type": "stream",
     "text": [
      "Model: \"sequential\"\n",
      "_________________________________________________________________\n",
      "Layer (type)                 Output Shape              Param #   \n",
      "=================================================================\n",
      "embedding (Embedding)        (None, 500, 200)          4000000   \n",
      "_________________________________________________________________\n",
      "conv1d (Conv1D)              (None, 500, 64)           38464     \n",
      "_________________________________________________________________\n",
      "max_pooling1d (MaxPooling1D) (None, 250, 64)           0         \n",
      "_________________________________________________________________\n",
      "conv1d_1 (Conv1D)            (None, 250, 128)          24704     \n",
      "_________________________________________________________________\n",
      "global_average_pooling1d (Gl (None, 128)               0         \n",
      "_________________________________________________________________\n",
      "dropout (Dropout)            (None, 128)               0         \n",
      "_________________________________________________________________\n",
      "dense (Dense)                (None, 1)                 129       \n",
      "=================================================================\n",
      "Total params: 4,063,297\n",
      "Trainable params: 4,063,297\n",
      "Non-trainable params: 0\n",
      "_________________________________________________________________\n"
     ]
    }
   ],
   "source": [
    "Model.summary()"
   ]
  },
  {
   "cell_type": "code",
   "execution_count": 32,
   "id": "627672ea-deda-4f14-a911-dca855bee1d2",
   "metadata": {},
   "outputs": [],
   "source": [
    "train_generator = DataGenerator(input_text=X_train,\n",
    "                                        labels=y_train,\n",
    "                                        batch_size=64)\n",
    "validation_generator = DataGenerator(input_text=X_val,\n",
    "                                     labels=y_val,\n",
    "                                     batch_size=64)"
   ]
  },
  {
   "cell_type": "code",
   "execution_count": 34,
   "id": "d06c9840-43ff-4ceb-a50c-60c9f31395d5",
   "metadata": {},
   "outputs": [
    {
     "name": "stderr",
     "output_type": "stream",
     "text": [
      "2021-12-10 17:34:58.172763: I tensorflow/compiler/mlir/mlir_graph_optimization_pass.cc:185] None of the MLIR Optimization Passes are enabled (registered 2)\n"
     ]
    },
    {
     "name": "stdout",
     "output_type": "stream",
     "text": [
      "Epoch 1/10\n",
      "20/20 [==============================] - 8s 343ms/step - loss: 0.6933 - accuracy: 0.5188 - val_loss: 0.6926 - val_accuracy: 0.5130\n",
      "Epoch 2/10\n",
      "20/20 [==============================] - 8s 381ms/step - loss: 0.6923 - accuracy: 0.5023 - val_loss: 0.6903 - val_accuracy: 0.5130\n",
      "Epoch 3/10\n",
      "20/20 [==============================] - 6s 316ms/step - loss: 0.6841 - accuracy: 0.5914 - val_loss: 0.6706 - val_accuracy: 0.6750\n",
      "Epoch 4/10\n",
      "20/20 [==============================] - 7s 368ms/step - loss: 0.6285 - accuracy: 0.7165 - val_loss: 0.5940 - val_accuracy: 0.7380\n",
      "Epoch 5/10\n",
      "20/20 [==============================] - 6s 313ms/step - loss: 0.4930 - accuracy: 0.7974 - val_loss: 0.4765 - val_accuracy: 0.7660\n",
      "Epoch 6/10\n",
      "20/20 [==============================] - 6s 306ms/step - loss: 0.3386 - accuracy: 0.8727 - val_loss: 0.4020 - val_accuracy: 0.8230\n",
      "Epoch 7/10\n",
      "20/20 [==============================] - 7s 369ms/step - loss: 0.2526 - accuracy: 0.9052 - val_loss: 0.3809 - val_accuracy: 0.8460\n",
      "Epoch 8/10\n",
      "20/20 [==============================] - 6s 307ms/step - loss: 0.2618 - accuracy: 0.8984 - val_loss: 0.4194 - val_accuracy: 0.8330\n",
      "Epoch 9/10\n",
      "20/20 [==============================] - 6s 310ms/step - loss: 0.1918 - accuracy: 0.9266 - val_loss: 0.3702 - val_accuracy: 0.8400\n",
      "Epoch 10/10\n",
      "20/20 [==============================] - 7s 357ms/step - loss: 0.1686 - accuracy: 0.9420 - val_loss: 0.4023 - val_accuracy: 0.8350\n"
     ]
    }
   ],
   "source": [
    "history = Model.fit(\n",
    "            train_generator,\n",
    "            validation_data=validation_generator,\n",
    "            epochs=10,\n",
    "            steps_per_epoch=20,\n",
    "            workers=5,\n",
    "            use_multiprocessing=True)"
   ]
  },
  {
   "cell_type": "code",
   "execution_count": 41,
   "id": "dde297f7-9556-4b35-be6e-2ce7798bf48a",
   "metadata": {},
   "outputs": [
    {
     "data": {
      "image/png": "[encoded data removed]",
      "text/plain": [
       "<Figure size 432x288 with 1 Axes>"
      ]
     },
     "metadata": {
      "needs_background": "light"
     },
     "output_type": "display_data"
    }
   ],
   "source": [
    "plt.plot(history.history['loss'], label='loss')\n",
    "plt.plot(history.history['accuracy'], label='accuracy')\n",
    "plt.legend()\n",
    "plt.show()"
   ]
  },
  {
   "cell_type": "code",
   "execution_count": null,
   "id": "49d2ed1b-0aac-49a3-a911-1478aee4f988",
   "metadata": {},
   "outputs": [],
   "source": []
  },
  {
   "cell_type": "code",
   "execution_count": 43,
   "id": "aea74ded-58a0-49a9-ba30-ff18c8d21e25",
   "metadata": {},
   "outputs": [
    {
     "name": "stdout",
     "output_type": "stream",
     "text": [
      "INFO:tensorflow:Assets written to: ./saved_model/assets\n"
     ]
    }
   ],
   "source": [
    "Model.save('./saved_model')"
   ]
  },
  {
   "cell_type": "code",
   "execution_count": null,
   "id": "be9b5322-321c-4476-96e0-b17ff0579fc0",
   "metadata": {},
   "outputs": [],
   "source": []
  },
  {
   "cell_type": "code",
   "execution_count": null,
   "id": "0dbe2163-3629-417d-8360-a1146f83d62a",
   "metadata": {},
   "outputs": [],
   "source": []
  }
 ],
 "metadata": {
  "environment": {
   "kernel": "python3",
   "name": "tf2-gpu.2-6.m87",
   "type": "gcloud",
   "uri": "gcr.io/deeplearning-platform-release/tf2-gpu.2-6:m87"
  },
  "kernelspec": {
   "display_name": "Python 3",
   "language": "python",
   "name": "python3"
  },
  "language_info": {
   "codemirror_mode": {
    "name": "ipython",
    "version": 3
   },
   "file_extension": ".py",
   "mimetype": "text/x-python",
   "name": "python",
   "nbconvert_exporter": "python",
   "pygments_lexer": "ipython3",
   "version": "3.7.12"
  }
 },
 "nbformat": 4,
 "nbformat_minor": 5
}
