{
 "cells": [
  {
   "cell_type": "code",
   "execution_count": 1,
   "id": "2a6052b3-ea66-4968-a1f4-74d9ef1e39d5",
   "metadata": {},
   "outputs": [],
   "source": [
    "!sudo chown -R jupyter:jupyter /home/jupyter/Sentiment-Analysis-of-Amazon-Reviews"
   ]
  },
  {
   "cell_type": "code",
   "execution_count": 2,
   "id": "f86979f6-a726-4844-93e4-94a294f0d90d",
   "metadata": {},
   "outputs": [],
   "source": [
    "import os\n",
    "\n",
    "import pandas as pd\n",
    "import numpy as np\n",
    "\n",
    "from argparse import Namespace\n",
    "from matplotlib import pyplot as plt\n",
    "from tensorflow.keras.preprocessing import sequence\n",
    "from tensorflow.keras.preprocessing.text import Tokenizer\n",
    "import sys\n",
    "\n",
    "sys.path.append('..')\n",
    "from detectors.tf_gcp.trainer.models.models import CNNModel\n",
    "from detectors.tf_gcp.trainer.data_ops.data_generator import DataGenerator"
   ]
  },
  {
   "cell_type": "code",
   "execution_count": 3,
   "id": "6848be3b-f586-4a53-9528-3f73ecebc2b8",
   "metadata": {},
   "outputs": [],
   "source": [
    "PROJECT = 'text-analysis-323506'\n",
    "REGION = 'us-central1'\n",
    "BUCKET = 'text-analysis-323506'"
   ]
  },
  {
   "cell_type": "code",
   "execution_count": 4,
   "id": "7d72aeb4-179e-42a4-9422-c26b1dca5131",
   "metadata": {},
   "outputs": [],
   "source": [
    "os.environ['BUCKET'] = BUCKET\n",
    "os.environ['PROJECT'] = PROJECT\n",
    "os.environ['REGION'] = REGION\n",
    "os.environ['TFVERSION'] = '2.6'"
   ]
  },
  {
   "cell_type": "code",
   "execution_count": 5,
   "id": "80b736db-1819-4c74-beb2-ff9f488dbc5e",
   "metadata": {},
   "outputs": [
    {
     "name": "stderr",
     "output_type": "stream",
     "text": [
      "Updated property [core/project].\n",
      "Updated property [compute/region].\n"
     ]
    }
   ],
   "source": [
    "%%bash\n",
    "gcloud config set project $PROJECT\n",
    "gcloud config set compute/region $REGION"
   ]
  },
  {
   "cell_type": "code",
   "execution_count": null,
   "id": "baa6496a-bf7d-454b-acf3-84d6f8dbee11",
   "metadata": {},
   "outputs": [],
   "source": []
  },
  {
   "cell_type": "code",
   "execution_count": 6,
   "id": "9811e1b9-5e9d-4dd9-ae9f-c6dd63e5f6e8",
   "metadata": {},
   "outputs": [],
   "source": [
    "train_df = pd.read_csv('../sample_data/train_text.csv')\n",
    "val_df = pd.read_csv('../sample_data/val_text.csv')"
   ]
  },
  {
   "cell_type": "code",
   "execution_count": 7,
   "id": "71892e80-d345-4fe1-8d25-6bbf85af4cc1",
   "metadata": {},
   "outputs": [
    {
     "data": {
      "text/html": [
       "<div>\n",
       "<style scoped>\n",
       "    .dataframe tbody tr th:only-of-type {\n",
       "        vertical-align: middle;\n",
       "    }\n",
       "\n",
       "    .dataframe tbody tr th {\n",
       "        vertical-align: top;\n",
       "    }\n",
       "\n",
       "    .dataframe thead th {\n",
       "        text-align: right;\n",
       "    }\n",
       "</style>\n",
       "<table border=\"1\" class=\"dataframe\">\n",
       "  <thead>\n",
       "    <tr style=\"text-align: right;\">\n",
       "      <th></th>\n",
       "      <th>input</th>\n",
       "      <th>labels</th>\n",
       "    </tr>\n",
       "  </thead>\n",
       "  <tbody>\n",
       "    <tr>\n",
       "      <th>0</th>\n",
       "      <td>don't waste your time or money!: This movie wi...</td>\n",
       "      <td>1</td>\n",
       "    </tr>\n",
       "    <tr>\n",
       "      <th>1</th>\n",
       "      <td>Just walk away: I expected this book to be mor...</td>\n",
       "      <td>1</td>\n",
       "    </tr>\n",
       "    <tr>\n",
       "      <th>2</th>\n",
       "      <td>Love mash: Mash is great but why is it a 1-4 C...</td>\n",
       "      <td>1</td>\n",
       "    </tr>\n",
       "    <tr>\n",
       "      <th>3</th>\n",
       "      <td>Old Rehashed NFL Films Footage.: I bought this...</td>\n",
       "      <td>1</td>\n",
       "    </tr>\n",
       "    <tr>\n",
       "      <th>4</th>\n",
       "      <td>Satisfied: Good enough. It is indeed snug, and...</td>\n",
       "      <td>0</td>\n",
       "    </tr>\n",
       "  </tbody>\n",
       "</table>\n",
       "</div>"
      ],
      "text/plain": [
       "                                               input  labels\n",
       "0  don't waste your time or money!: This movie wi...       1\n",
       "1  Just walk away: I expected this book to be mor...       1\n",
       "2  Love mash: Mash is great but why is it a 1-4 C...       1\n",
       "3  Old Rehashed NFL Films Footage.: I bought this...       1\n",
       "4  Satisfied: Good enough. It is indeed snug, and...       0"
      ]
     },
     "execution_count": 7,
     "metadata": {},
     "output_type": "execute_result"
    }
   ],
   "source": [
    "train_df.head()"
   ]
  },
  {
   "cell_type": "code",
   "execution_count": 8,
   "id": "6d940c74-006f-4220-bde7-4fce92fb6d54",
   "metadata": {},
   "outputs": [
    {
     "name": "stdout",
     "output_type": "stream",
     "text": [
      "5000 1000\n"
     ]
    }
   ],
   "source": [
    "print(len(train_df), len(val_df))"
   ]
  },
  {
   "cell_type": "code",
   "execution_count": 9,
   "id": "6d05cd7b-4ed8-4eb2-a187-6dd1a3f4cd9a",
   "metadata": {},
   "outputs": [],
   "source": [
    "TOP_K = 20000\n",
    "MAX_SEQUENCE_LENGTH = 500"
   ]
  },
  {
   "cell_type": "code",
   "execution_count": 10,
   "id": "da0168b7-2c4d-4a7d-b2f5-d0a2e609600c",
   "metadata": {},
   "outputs": [],
   "source": [
    "tokenizer = Tokenizer(num_words=TOP_K)"
   ]
  },
  {
   "cell_type": "code",
   "execution_count": 11,
   "id": "14e5e52c-8024-4d70-ac01-9fd0e7c271e6",
   "metadata": {},
   "outputs": [],
   "source": [
    "lines = list(train_df['input']) + list(val_df['input'])"
   ]
  },
  {
   "cell_type": "code",
   "execution_count": 12,
   "id": "0506c4ed-2eef-419c-a33f-9f0d9aeb8eb3",
   "metadata": {},
   "outputs": [],
   "source": [
    "tokenizer.fit_on_texts(lines)"
   ]
  },
  {
   "cell_type": "code",
   "execution_count": 13,
   "id": "d00d3a26-dbbb-4598-bf2e-5ae03a36618a",
   "metadata": {},
   "outputs": [],
   "source": [
    "X_train = tokenizer.texts_to_sequences(list(train_df['input']))\n",
    "X_val = tokenizer.texts_to_sequences(list(val_df['input']))"
   ]
  },
  {
   "cell_type": "code",
   "execution_count": 14,
   "id": "437cbcee-b54f-43a1-9475-02601e1ddb43",
   "metadata": {},
   "outputs": [],
   "source": [
    "X_train = sequence.pad_sequences(X_train, maxlen=MAX_SEQUENCE_LENGTH)\n",
    "X_val = sequence.pad_sequences(X_val, maxlen=MAX_SEQUENCE_LENGTH)"
   ]
  },
  {
   "cell_type": "code",
   "execution_count": 15,
   "id": "38b885e3-43db-4551-a293-4dd5066749e0",
   "metadata": {},
   "outputs": [],
   "source": [
    "y_train = np.array(train_df['labels'])\n",
    "y_val = np.array(val_df['labels'])"
   ]
  },
  {
   "cell_type": "code",
   "execution_count": 16,
   "id": "1fbefd4a-6cea-4b12-8add-2913e3d34f64",
   "metadata": {},
   "outputs": [],
   "source": [
    "num_features = min(len(tokenizer.word_index) + 1, TOP_K)"
   ]
  },
  {
   "cell_type": "code",
   "execution_count": 17,
   "id": "6e5f5c51-9d11-4a8a-9844-6c768f8eddb4",
   "metadata": {},
   "outputs": [
    {
     "name": "stdout",
     "output_type": "stream",
     "text": [
      "[CNNModel::build] Building CNN model\n"
     ]
    },
    {
     "name": "stderr",
     "output_type": "stream",
     "text": [
      "2021-12-11 11:49:32.324626: I tensorflow/core/common_runtime/process_util.cc:146] Creating new thread pool with default inter op setting: 2. Tune using inter_op_parallelism_threads for best performance.\n"
     ]
    }
   ],
   "source": [
    "Model = CNNModel(num_features=num_features,\n",
    "                 max_sequence_length=MAX_SEQUENCE_LENGTH).build(Namespace(**{'optimizer': 'adam', 'loss': \"binary_crossentropy\", 'metrics': [\"accuracy\"],'embedding_dim': 200}))"
   ]
  },
  {
   "cell_type": "code",
   "execution_count": 18,
   "id": "e5ccd483-219a-430a-90e4-bc79754ab0db",
   "metadata": {},
   "outputs": [
    {
     "name": "stdout",
     "output_type": "stream",
     "text": [
      "Model: \"sequential\"\n",
      "_________________________________________________________________\n",
      "Layer (type)                 Output Shape              Param #   \n",
      "=================================================================\n",
      "embedding (Embedding)        (None, 500, 200)          4000000   \n",
      "_________________________________________________________________\n",
      "conv1d (Conv1D)              (None, 500, 64)           38464     \n",
      "_________________________________________________________________\n",
      "max_pooling1d (MaxPooling1D) (None, 250, 64)           0         \n",
      "_________________________________________________________________\n",
      "conv1d_1 (Conv1D)            (None, 250, 128)          24704     \n",
      "_________________________________________________________________\n",
      "global_average_pooling1d (Gl (None, 128)               0         \n",
      "_________________________________________________________________\n",
      "dropout (Dropout)            (None, 128)               0         \n",
      "_________________________________________________________________\n",
      "dense (Dense)                (None, 1)                 129       \n",
      "=================================================================\n",
      "Total params: 4,063,297\n",
      "Trainable params: 4,063,297\n",
      "Non-trainable params: 0\n",
      "_________________________________________________________________\n"
     ]
    }
   ],
   "source": [
    "Model.summary()"
   ]
  },
  {
   "cell_type": "code",
   "execution_count": 19,
   "id": "627672ea-deda-4f14-a911-dca855bee1d2",
   "metadata": {},
   "outputs": [],
   "source": [
    "train_generator = DataGenerator(input_text=X_train,\n",
    "                                        labels=y_train,\n",
    "                                        batch_size=64)\n",
    "validation_generator = DataGenerator(input_text=X_val,\n",
    "                                     labels=y_val,\n",
    "                                     batch_size=64)"
   ]
  },
  {
   "cell_type": "code",
   "execution_count": 20,
   "id": "d06c9840-43ff-4ceb-a50c-60c9f31395d5",
   "metadata": {},
   "outputs": [
    {
     "name": "stderr",
     "output_type": "stream",
     "text": [
      "2021-12-11 11:49:33.247815: I tensorflow/compiler/mlir/mlir_graph_optimization_pass.cc:185] None of the MLIR Optimization Passes are enabled (registered 2)\n"
     ]
    },
    {
     "name": "stdout",
     "output_type": "stream",
     "text": [
      "Epoch 1/10\n",
      "20/20 [==============================] - 9s 428ms/step - loss: 0.6937 - accuracy: 0.4730 - val_loss: 0.6929 - val_accuracy: 0.5040\n",
      "Epoch 2/10\n",
      "20/20 [==============================] - 9s 431ms/step - loss: 0.6925 - accuracy: 0.5141 - val_loss: 0.6898 - val_accuracy: 0.6020\n",
      "Epoch 3/10\n",
      "20/20 [==============================] - 9s 424ms/step - loss: 0.6825 - accuracy: 0.6168 - val_loss: 0.6667 - val_accuracy: 0.6620\n",
      "Epoch 4/10\n",
      "20/20 [==============================] - 8s 404ms/step - loss: 0.6152 - accuracy: 0.6930 - val_loss: 0.5812 - val_accuracy: 0.7110\n",
      "Epoch 5/10\n",
      "20/20 [==============================] - 8s 408ms/step - loss: 0.4899 - accuracy: 0.7802 - val_loss: 0.4749 - val_accuracy: 0.7800\n",
      "Epoch 6/10\n",
      "20/20 [==============================] - 8s 405ms/step - loss: 0.3662 - accuracy: 0.8554 - val_loss: 0.3982 - val_accuracy: 0.8260\n",
      "Epoch 7/10\n",
      "20/20 [==============================] - 10s 482ms/step - loss: 0.2843 - accuracy: 0.8836 - val_loss: 0.3689 - val_accuracy: 0.8400\n",
      "Epoch 8/10\n",
      "20/20 [==============================] - 8s 413ms/step - loss: 0.2144 - accuracy: 0.9158 - val_loss: 0.3678 - val_accuracy: 0.8510\n",
      "Epoch 9/10\n",
      "20/20 [==============================] - 8s 403ms/step - loss: 0.1552 - accuracy: 0.9453 - val_loss: 0.3607 - val_accuracy: 0.8540\n",
      "Epoch 10/10\n",
      "20/20 [==============================] - 9s 475ms/step - loss: 0.1379 - accuracy: 0.9461 - val_loss: 0.4133 - val_accuracy: 0.8420\n"
     ]
    }
   ],
   "source": [
    "history = Model.fit(\n",
    "            train_generator,\n",
    "            validation_data=validation_generator,\n",
    "            epochs=10,\n",
    "            steps_per_epoch=20,\n",
    "            workers=5,\n",
    "            use_multiprocessing=True)"
   ]
  },
  {
   "cell_type": "code",
   "execution_count": 21,
   "id": "dde297f7-9556-4b35-be6e-2ce7798bf48a",
   "metadata": {},
   "outputs": [
    {
     "data": {
      "image/png": "[encoded data removed]",
      "text/plain": [
       "<Figure size 432x288 with 1 Axes>"
      ]
     },
     "metadata": {
      "needs_background": "light"
     },
     "output_type": "display_data"
    }
   ],
   "source": [
    "plt.plot(history.history['loss'], label='loss')\n",
    "plt.plot(history.history['accuracy'], label='accuracy')\n",
    "plt.legend()\n",
    "plt.show()"
   ]
  },
  {
   "cell_type": "code",
   "execution_count": null,
   "id": "49d2ed1b-0aac-49a3-a911-1478aee4f988",
   "metadata": {},
   "outputs": [],
   "source": []
  },
  {
   "cell_type": "code",
   "execution_count": 22,
   "id": "aea74ded-58a0-49a9-ba30-ff18c8d21e25",
   "metadata": {},
   "outputs": [
    {
     "name": "stderr",
     "output_type": "stream",
     "text": [
      "2021-12-11 11:28:03.353869: W tensorflow/python/util/util.cc:348] Sets are not currently considered sequences, but this may change in the future, so consider avoiding using them.\n"
     ]
    },
    {
     "name": "stdout",
     "output_type": "stream",
     "text": [
      "INFO:tensorflow:Assets written to: ./saved_model/assets\n"
     ]
    }
   ],
   "source": [
    "Model.save('./saved_model')"
   ]
  },
  {
   "cell_type": "code",
   "execution_count": 23,
   "id": "be9b5322-321c-4476-96e0-b17ff0579fc0",
   "metadata": {},
   "outputs": [
    {
     "name": "stdout",
     "output_type": "stream",
     "text": [
      "Copying file://./saved_model/keras_metadata.pb [Content-Type=application/octet-stream]...\n",
      "Copying file://./saved_model/saved_model.pb [Content-Type=application/octet-stream]...\n",
      "Copying file://./saved_model/variables/variables.data-00000-of-00001 [Content-Type=application/octet-stream]...\n",
      "Copying file://./saved_model/variables/variables.index [Content-Type=application/octet-stream]...\n",
      "Removing file://./saved_model/saved_model.pb...                                 \n",
      "Removing file://./saved_model/keras_metadata.pb...                              \n",
      "Removing file://./saved_model/variables/variables.index...                      \n",
      "Removing file://./saved_model/variables/variables.data-00000-of-00001...        \n",
      "- [4/4 files][ 46.7 MiB/ 46.7 MiB] 100% Done                                    \n",
      "Operation completed over 4 objects/46.7 MiB.                                     \n"
     ]
    }
   ],
   "source": [
    "! gsutil -m mv ./saved_model gs://text-analysis-323506-aiplatform"
   ]
  },
  {
   "cell_type": "markdown",
   "id": "bc2623ae-d576-4ede-b6bd-79b214ed9694",
   "metadata": {},
   "source": [
    "### Create model endpoint"
   ]
  },
  {
   "cell_type": "code",
   "execution_count": 32,
   "id": "a3dabc2d-8e35-449a-ba35-5c64a4c397f1",
   "metadata": {},
   "outputs": [],
   "source": [
    "os.environ['MODEL_DIR']=\"gs://text-analysis-323506-aiplatform/saved_model\"\n",
    "os.environ['VERSION_NAME']=\"V1\"\n",
    "os.environ['MODEL_NAME']=\"sentiment_analyser\"\n",
    "os.environ['FRAMEWORK']=\"tensorflow\"\n",
    "os.environ['INPUT_DATA_FILE']=\"./input.json\""
   ]
  },
  {
   "cell_type": "code",
   "execution_count": 28,
   "id": "af04bc44-1a25-4e57-a732-8ba343eec673",
   "metadata": {},
   "outputs": [
    {
     "name": "stderr",
     "output_type": "stream",
     "text": [
      "Using endpoint [https://us-central1-ml.googleapis.com/]\n",
      "Created ai platform model [projects/text-analysis-323506/models/sentiment_analyser2].\n"
     ]
    }
   ],
   "source": [
    "%%bash\n",
    "\n",
    "gcloud ai-platform models create $MODEL_NAME --region=$REGION --enable-logging"
   ]
  },
  {
   "cell_type": "code",
   "execution_count": 25,
   "id": "33abc277-5a71-4cdf-96c7-9156cc67d003",
   "metadata": {},
   "outputs": [
    {
     "name": "stderr",
     "output_type": "stream",
     "text": [
      "Using endpoint [https://us-central1-ml.googleapis.com/]\n",
      "Creating version (this might take a few minutes)......\n",
      "..................................................................................................................................................................................................................................................................................................................................................................................................................................................................................................................................................................................................................................................................................................................................................................................................................................................................................................................................................................................................................................................................................................................................................................................................................................................................................................................................................................................................................................................................................................................................................................................................................................................................done.\n"
     ]
    }
   ],
   "source": [
    "%%bash\n",
    "gcloud ai-platform versions create $VERSION_NAME \\\n",
    "  --model=$MODEL_NAME \\\n",
    "  --origin=$MODEL_DIR \\\n",
    "  --runtime-version=2.6 \\\n",
    "  --framework=$FRAMEWORK \\\n",
    "  --python-version=3.7 \\\n",
    "  --region=$REGION \\\n",
    "  --machine-type=n1-standard-2 \\\n",
    "  --user-output-enabled"
   ]
  },
  {
   "cell_type": "code",
   "execution_count": 26,
   "id": "0e548b9d-e52a-4a59-8ba6-83305beaad01",
   "metadata": {},
   "outputs": [],
   "source": [
    "test_df = pd.read_csv('../sample_data/test_text_100.csv')"
   ]
  },
  {
   "cell_type": "code",
   "execution_count": 27,
   "id": "d3e66c30-24d3-4d4d-9685-a6fdb568d42b",
   "metadata": {},
   "outputs": [
    {
     "data": {
      "text/html": [
       "<div>\n",
       "<style scoped>\n",
       "    .dataframe tbody tr th:only-of-type {\n",
       "        vertical-align: middle;\n",
       "    }\n",
       "\n",
       "    .dataframe tbody tr th {\n",
       "        vertical-align: top;\n",
       "    }\n",
       "\n",
       "    .dataframe thead th {\n",
       "        text-align: right;\n",
       "    }\n",
       "</style>\n",
       "<table border=\"1\" class=\"dataframe\">\n",
       "  <thead>\n",
       "    <tr style=\"text-align: right;\">\n",
       "      <th></th>\n",
       "      <th>input</th>\n",
       "      <th>labels</th>\n",
       "    </tr>\n",
       "  </thead>\n",
       "  <tbody>\n",
       "    <tr>\n",
       "      <th>0</th>\n",
       "      <td>Great CD: My lovely Pat has one of the GREAT v...</td>\n",
       "      <td>0</td>\n",
       "    </tr>\n",
       "    <tr>\n",
       "      <th>1</th>\n",
       "      <td>One of the best game music soundtracks - for a...</td>\n",
       "      <td>0</td>\n",
       "    </tr>\n",
       "    <tr>\n",
       "      <th>2</th>\n",
       "      <td>Batteries died within a year ...: I bought thi...</td>\n",
       "      <td>1</td>\n",
       "    </tr>\n",
       "    <tr>\n",
       "      <th>3</th>\n",
       "      <td>works fine, but Maha Energy is better: Check o...</td>\n",
       "      <td>0</td>\n",
       "    </tr>\n",
       "    <tr>\n",
       "      <th>4</th>\n",
       "      <td>Great for the non-audiophile: Reviewed quite a...</td>\n",
       "      <td>0</td>\n",
       "    </tr>\n",
       "  </tbody>\n",
       "</table>\n",
       "</div>"
      ],
      "text/plain": [
       "                                               input  labels\n",
       "0  Great CD: My lovely Pat has one of the GREAT v...       0\n",
       "1  One of the best game music soundtracks - for a...       0\n",
       "2  Batteries died within a year ...: I bought thi...       1\n",
       "3  works fine, but Maha Energy is better: Check o...       0\n",
       "4  Great for the non-audiophile: Reviewed quite a...       0"
      ]
     },
     "execution_count": 27,
     "metadata": {},
     "output_type": "execute_result"
    }
   ],
   "source": [
    "test_df.head()"
   ]
  },
  {
   "cell_type": "code",
   "execution_count": 28,
   "id": "95873ebe-ec7c-4c2d-ac7b-01990f6c1f40",
   "metadata": {},
   "outputs": [],
   "source": [
    "X_test = tokenizer.texts_to_sequences(list(test_df['input']))\n",
    "X_test = sequence.pad_sequences(X_test, maxlen=MAX_SEQUENCE_LENGTH)"
   ]
  },
  {
   "cell_type": "code",
   "execution_count": 46,
   "id": "9e6a95cb-8295-4949-8e78-0582f767ca09",
   "metadata": {},
   "outputs": [
    {
     "name": "stdout",
     "output_type": "stream",
     "text": [
      "[[0.13463295]]\n",
      "[[0.0002774]]\n",
      "[[0.95587695]]\n",
      "[[0.31515345]]\n",
      "[[0.10683462]]\n",
      "[[0.93513846]]\n",
      "[[0.99217236]]\n",
      "[[0.7323654]]\n",
      "[[0.27761]]\n",
      "[[0.44422027]]\n"
     ]
    }
   ],
   "source": [
    "for value in X_test[:10]:\n",
    "    prediction = Model.predict(np.array([value]))\n",
    "    print(prediction)"
   ]
  },
  {
   "cell_type": "code",
   "execution_count": 41,
   "id": "86619d1f-1b64-43fc-9edb-8034c91142a4",
   "metadata": {},
   "outputs": [],
   "source": [
    "json_entry = {\"instances\":\n",
    "                 [{\"input\": [int(value) for value in test_value]} for test_value in X_test[:10]]}"
   ]
  },
  {
   "cell_type": "code",
   "execution_count": 42,
   "id": "3e0a2dc1-f87c-486e-b3d4-2a43ca21c2ec",
   "metadata": {},
   "outputs": [],
   "source": [
    "import json\n",
    "with open('input.json', 'w') as f:\n",
    "    json.dump(json_entry, f)"
   ]
  },
  {
   "cell_type": "code",
   "execution_count": 43,
   "id": "f43e3457-351d-4c57-9dac-6116cbba755e",
   "metadata": {},
   "outputs": [
    {
     "name": "stdout",
     "output_type": "stream",
     "text": [
      "[[0.134632856], [0.000277370214], [0.955876946], [0.315153539], [0.10683468], [0.935138464], [0.99217236], [0.732365429], [0.27761], [0.444220275]]\n"
     ]
    },
    {
     "name": "stderr",
     "output_type": "stream",
     "text": [
      "Using endpoint [https://us-central1-ml.googleapis.com/]\n"
     ]
    }
   ],
   "source": [
    "%%bash\n",
    "gcloud ai-platform predict \\\n",
    "  --model=$MODEL_NAME \\\n",
    "  --version=$VERSION_NAME \\\n",
    "  --json-request=$INPUT_DATA_FILE \\\n",
    "  --region=$REGION"
   ]
  },
  {
   "cell_type": "code",
   "execution_count": null,
   "id": "0beee365-804d-4c12-95a2-11456dd5aad1",
   "metadata": {},
   "outputs": [],
   "source": []
  }
 ],
 "metadata": {
  "environment": {
   "kernel": "python3",
   "name": "tf2-gpu.2-6.m87",
   "type": "gcloud",
   "uri": "gcr.io/deeplearning-platform-release/tf2-gpu.2-6:m87"
  },
  "kernelspec": {
   "display_name": "Python 3",
   "language": "python",
   "name": "python3"
  },
  "language_info": {
   "codemirror_mode": {
    "name": "ipython",
    "version": 3
   },
   "file_extension": ".py",
   "mimetype": "text/x-python",
   "name": "python",
   "nbconvert_exporter": "python",
   "pygments_lexer": "ipython3",
   "version": "3.7.12"
  }
 },
 "nbformat": 4,
 "nbformat_minor": 5
}
