{
 "cells": [
  {
   "cell_type": "markdown",
   "id": "83ec05e2",
   "metadata": {},
   "source": [
    "# Keras Text Tokernizer\n",
    "\n",
    "This notebook contains a small example to show, how to use teh tokenizer to convert text sequences into integer format.\n",
    "Text sequences in integer format can then be fed into an embedding layer of a deep neural network"
   ]
  },
  {
   "cell_type": "code",
   "execution_count": 35,
   "id": "e52b0587",
   "metadata": {},
   "outputs": [],
   "source": [
    "from tensorflow.keras.preprocessing.text import Tokenizer\n",
    "from tensorflow.python.keras.preprocessing import sequence"
   ]
  },
  {
   "cell_type": "code",
   "execution_count": 36,
   "id": "544e0c4d",
   "metadata": {},
   "outputs": [],
   "source": [
    "lines = []\n",
    "top_k = 20000\n",
    "MAX_SEQUENCE_LENGTH = 70"
   ]
  },
  {
   "cell_type": "code",
   "execution_count": 37,
   "id": "d7b89e82",
   "metadata": {},
   "outputs": [],
   "source": [
    "with open('/home/jupyter/data/test/good/good_reviews.txt', 'r') as fstream:\n",
    "    lines = fstream.readlines()"
   ]
  },
  {
   "cell_type": "code",
   "execution_count": 39,
   "id": "aca4d33d",
   "metadata": {},
   "outputs": [
    {
     "name": "stdout",
     "output_type": "stream",
     "text": [
      "Number of sequences in original dataset: 200000\n"
     ]
    }
   ],
   "source": [
    "print(f\"Number of sequences in original dataset: {len(lines)}\")"
   ]
  },
  {
   "cell_type": "code",
   "execution_count": 40,
   "id": "0ebc8d82",
   "metadata": {},
   "outputs": [
    {
     "name": "stdout",
     "output_type": "stream",
     "text": [
      "An example sequence:\n"
     ]
    },
    {
     "data": {
      "text/plain": [
       "'Great CD: My lovely Pat has one of the GREAT voices of her generation. I have listened to this CD for YEARS and I still LOVE IT. When I\\'m in a good mood it makes me feel better. A bad mood just evaporates like sugar in the rain. This CD just oozes LIFE. Vocals are jusat STUUNNING and lyrics just kill. One of life\\'s hidden gems. This is a desert isle CD in my book. Why she never made it big is just beyond me. Everytime I play this, no matter black, white, young, old, male, female EVERYBODY says one thing \"Who was that singing ?\"\\n'"
      ]
     },
     "execution_count": 40,
     "metadata": {},
     "output_type": "execute_result"
    }
   ],
   "source": [
    "print(\"An example sequence:\")\n",
    "lines[0]"
   ]
  },
  {
   "cell_type": "code",
   "execution_count": 41,
   "id": "bd71ed2f",
   "metadata": {},
   "outputs": [],
   "source": [
    "# create the tokenizer\n",
    "t = Tokenizer(num_words=top_k)\n",
    "\n",
    "# fit the tokenizer on the documents\n",
    "t.fit_on_texts(lines)"
   ]
  },
  {
   "cell_type": "code",
   "execution_count": 42,
   "id": "0e0429a6",
   "metadata": {},
   "outputs": [],
   "source": [
    "x = t.texts_to_sequences(lines)"
   ]
  },
  {
   "cell_type": "code",
   "execution_count": 43,
   "id": "8e57942d",
   "metadata": {},
   "outputs": [],
   "source": [
    "x = sequence.pad_sequences(x, maxlen=MAX_SEQUENCE_LENGTH)"
   ]
  },
  {
   "cell_type": "code",
   "execution_count": 46,
   "id": "dd962518",
   "metadata": {},
   "outputs": [
    {
     "name": "stdout",
     "output_type": "stream",
     "text": [
      "Number of sequences in integer converted dataset: 200000\n"
     ]
    }
   ],
   "source": [
    "print(f\"Number of sequences in integer converted dataset: {len(x)}\")"
   ]
  },
  {
   "cell_type": "code",
   "execution_count": 47,
   "id": "78b82400",
   "metadata": {},
   "outputs": [
    {
     "name": "stdout",
     "output_type": "stream",
     "text": [
      "An example converted sequence:\n"
     ]
    },
    {
     "data": {
      "text/plain": [
       "array([ 1490,     7,   169,    44,   217,    98,     3,   252,  1490,\n",
       "          39,    31,  2295,    10,     1,  1991,     9,    74,    39,\n",
       "       18680,   115,   814,    23,     2,   509,    39,  1744,    25,\n",
       "           6,  4862,  2081,  3311,     9,     8,     3,  3334, 12738,\n",
       "          74,    10,    16,    15,   246,    81,   143,   146,     7,\n",
       "         235,     8,    39,   948,    44,  2708,     4,   243,     9,\n",
       "          77,   634,   431,   580,   341,   122,  1783,  1304,  1899,\n",
       "         639,    25,   205,    64,    17,    12,   860], dtype=int32)"
      ]
     },
     "execution_count": 47,
     "metadata": {},
     "output_type": "execute_result"
    }
   ],
   "source": [
    "print(\"An example converted sequence:\")\n",
    "x[0]"
   ]
  },
  {
   "cell_type": "code",
   "execution_count": null,
   "id": "2e67a1fd",
   "metadata": {},
   "outputs": [],
   "source": []
  }
 ],
 "metadata": {
  "environment": {
   "name": "tf2-gpu.2-3.m78",
   "type": "gcloud",
   "uri": "gcr.io/deeplearning-platform-release/tf2-gpu.2-3:m78"
  },
  "kernelspec": {
   "display_name": "Python 3",
   "language": "python",
   "name": "python3"
  },
  "language_info": {
   "codemirror_mode": {
    "name": "ipython",
    "version": 3
   },
   "file_extension": ".py",
   "mimetype": "text/x-python",
   "name": "python",
   "nbconvert_exporter": "python",
   "pygments_lexer": "ipython3",
   "version": "3.7.10"
  }
 },
 "nbformat": 4,
 "nbformat_minor": 5
}
