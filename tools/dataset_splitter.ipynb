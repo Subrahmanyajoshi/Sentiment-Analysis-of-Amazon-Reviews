{
 "cells": [
  {
   "cell_type": "code",
   "execution_count": 17,
   "metadata": {},
   "outputs": [],
   "source": [
    "opertion = 'test'"
   ]
  },
  {
   "cell_type": "code",
   "execution_count": 18,
   "metadata": {},
   "outputs": [],
   "source": [
    "lines = []\n",
    "with open(f'/home/jupyter/{opertion}.ft.txt', 'r') as fstream:\n",
    "    lines = fstream.readlines()"
   ]
  },
  {
   "cell_type": "code",
   "execution_count": 19,
   "metadata": {},
   "outputs": [
    {
     "data": {
      "text/plain": [
       "'__label__1 Not!: If you want to listen to El Duke , then it is better if you have access to his shower,this is not him, it is a gimmick,very well orchestrated.\\n'"
      ]
     },
     "execution_count": 19,
     "metadata": {},
     "output_type": "execute_result"
    }
   ],
   "source": [
    "lines[11]"
   ]
  },
  {
   "cell_type": "code",
   "execution_count": 20,
   "metadata": {},
   "outputs": [],
   "source": [
    "def write_to_file(lines, filename):\n",
    "    with open(filename, 'w') as fstream:\n",
    "        for line in lines:\n",
    "            fstream.write(line)\n",
    "            fstream.write('\\n')"
   ]
  },
  {
   "cell_type": "code",
   "execution_count": 21,
   "metadata": {},
   "outputs": [],
   "source": [
    "lines_good = []\n",
    "lines_bad = []\n",
    "\n",
    "for line in lines:\n",
    "    splitlines = line.split()\n",
    "    label = splitlines[0]\n",
    "    splitlines.pop(0)\n",
    "    line = ' '.join(splitlines)\n",
    "    \n",
    "    if label == '__label__1':\n",
    "        lines_bad.append(line)\n",
    "    elif label == '__label__2':\n",
    "        lines_good.append(line)"
   ]
  },
  {
   "cell_type": "code",
   "execution_count": 22,
   "metadata": {},
   "outputs": [],
   "source": [
    "lines_good_split1 = lines_good[:int(len(lines_good)/2)]\n",
    "lines_good_split2 = lines_good[int(len(lines_good)/2):]\n",
    "\n",
    "lines_bad_split1 = lines_bad[:int(len(lines_bad)/2)]\n",
    "lines_bad_split2 = lines_bad[int(len(lines_bad)/2):]"
   ]
  },
  {
   "cell_type": "code",
   "execution_count": 23,
   "metadata": {},
   "outputs": [],
   "source": [
    "write_to_file(lines_good_split1, f'/home/jupyter/data/{opertion}/good/good_reviews1.txt')\n",
    "write_to_file(lines_good_split2, f'/home/jupyter/data/{opertion}/good/good_reviews2.txt')\n",
    "\n",
    "write_to_file(lines_bad_split1, f'/home/jupyter/data/{opertion}/bad/bad_reviews1.txt')\n",
    "write_to_file(lines_bad_split2, f'/home/jupyter/data/{opertion}/bad/bad_reviews2.txt')"
   ]
  },
  {
   "cell_type": "code",
   "execution_count": null,
   "metadata": {},
   "outputs": [],
   "source": []
  }
 ],
 "metadata": {
  "environment": {
   "name": "tf2-gpu.2-3.m78",
   "type": "gcloud",
   "uri": "gcr.io/deeplearning-platform-release/tf2-gpu.2-3:m78"
  },
  "kernelspec": {
   "display_name": "Python 3",
   "language": "python",
   "name": "python3"
  },
  "language_info": {
   "codemirror_mode": {
    "name": "ipython",
    "version": 3
   },
   "file_extension": ".py",
   "mimetype": "text/x-python",
   "name": "python",
   "nbconvert_exporter": "python",
   "pygments_lexer": "ipython3",
   "version": "3.7.6"
  }
 },
 "nbformat": 4,
 "nbformat_minor": 5
}
