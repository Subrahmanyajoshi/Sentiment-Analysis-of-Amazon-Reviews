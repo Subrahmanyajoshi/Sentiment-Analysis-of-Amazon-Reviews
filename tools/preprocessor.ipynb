{
 "cells": [
  {
   "cell_type": "markdown",
   "id": "41949a8d",
   "metadata": {},
   "source": [
    "# Preprocessor"
   ]
  },
  {
   "cell_type": "code",
   "execution_count": 11,
   "id": "21df36ca",
   "metadata": {},
   "outputs": [
    {
     "data": {
      "text/html": [
       "<style>.container { width:100% !important; }</style>"
      ],
      "text/plain": [
       "<IPython.core.display.HTML object>"
      ]
     },
     "metadata": {},
     "output_type": "display_data"
    }
   ],
   "source": [
    "from IPython.core.display import display, HTML\n",
    "display(HTML(\"<style>.container { width:100% !important; }</style>\"))"
   ]
  },
  {
   "cell_type": "code",
   "execution_count": 12,
   "id": "82576b54",
   "metadata": {},
   "outputs": [],
   "source": [
    "import os\n",
    "import shutil\n",
    "import numpy as np\n",
    "import pandas as pd\n",
    "\n",
    "from sklearn.utils import shuffle\n",
    "\n",
    "# from tensorflow.keras.utils import to_categorical\n",
    "from sklearn.model_selection import train_test_split"
   ]
  },
  {
   "cell_type": "code",
   "execution_count": 8,
   "id": "efcbc990",
   "metadata": {},
   "outputs": [
    {
     "name": "stdout",
     "output_type": "stream",
     "text": [
      "Copying gs://text-analysis-323506/data/data_archive.zip...\n",
      "Archive:  /home/jupyter/data/data_archive.zip                                   \n",
      "  inflating: test.ft.txt.bz2         \n",
      "  inflating: train.ft.txt.bz2        \n"
     ]
    }
   ],
   "source": [
    "# Copy the raw data from GCS bucket, unzip it\n",
    "! gsutil -m cp -r gs://text-analysis-323506/data /home/jupyter\n",
    "! unzip /home/jupyter/data/data_archive.zip \n",
    "! bzip2 -d train.ft.txt.bz2 \n",
    "! bzip2 -d test.ft.txt.bz2\n",
    "! mv *.ft.txt /home/jupyter/data/"
   ]
  },
  {
   "cell_type": "code",
   "execution_count": 13,
   "id": "e290b51c",
   "metadata": {},
   "outputs": [],
   "source": [
    "train_file = \"/home/jupyter/data/train.ft.txt\"\n",
    "test_file = \"/home/jupyter/data/test.ft.txt\"\n",
    "\n",
    "dest_folder = \"/home/jupyter/train_data\"\n",
    "\n",
    "if not os.path.exists(dest_folder):\n",
    "    os.makedirs(dest_folder, exist_ok=True)"
   ]
  },
  {
   "cell_type": "code",
   "execution_count": 14,
   "id": "38e02f74",
   "metadata": {},
   "outputs": [],
   "source": [
    "def load_data(file_name):\n",
    "    data = []\n",
    "    with open(file_name, 'r') as fstream:\n",
    "        data = fstream.readlines()\n",
    "    fstream.close()\n",
    "    return data"
   ]
  },
  {
   "cell_type": "code",
   "execution_count": 15,
   "id": "6bada60b",
   "metadata": {},
   "outputs": [],
   "source": [
    "# load the text files\n",
    "train_data = load_data(train_file)\n",
    "test_data = load_data(test_file)"
   ]
  },
  {
   "cell_type": "code",
   "execution_count": 16,
   "id": "d484903a",
   "metadata": {},
   "outputs": [
    {
     "data": {
      "text/plain": [
       "'__label__2 Stuning even for the non-gamer: This sound track was beautiful! It paints the senery in your mind so well I would recomend it even to people who hate vid. game music! I have played the game Chrono Cross but out of all of the games I have ever played it has the best music! It backs away from crude keyboarding and takes a fresher step with grate guitars and soulful orchestras. It would impress anyone who cares to listen! ^_^\\n'"
      ]
     },
     "execution_count": 16,
     "metadata": {},
     "output_type": "execute_result"
    }
   ],
   "source": [
    "# An entry from train file\n",
    "train_data[0]"
   ]
  },
  {
   "cell_type": "code",
   "execution_count": 17,
   "id": "5f88d366",
   "metadata": {},
   "outputs": [],
   "source": [
    "def get_data_labels(text_lines):\n",
    "    data = []\n",
    "    labels = []\n",
    "    \n",
    "    for tline in text_lines:\n",
    "        tline = tline.split(maxsplit=1)\n",
    "        data.append(tline[1])\n",
    "        label = 1 if tline[0] == '__label__1' else 0\n",
    "        labels.append(label)\n",
    "    return data, labels"
   ]
  },
  {
   "cell_type": "code",
   "execution_count": 18,
   "id": "6dcf81ae",
   "metadata": {},
   "outputs": [],
   "source": [
    "# Splits the data in original text file into texts and labels\n",
    "train_input, train_labels = get_data_labels(train_data)\n",
    "test_input, test_labels = get_data_labels(test_data)"
   ]
  },
  {
   "cell_type": "code",
   "execution_count": 19,
   "id": "078b585a",
   "metadata": {},
   "outputs": [],
   "source": [
    "# Shuffle the train set\n",
    "train_data_shuffled, train_labels_shuffled = shuffle(train_input, train_labels)"
   ]
  },
  {
   "cell_type": "code",
   "execution_count": 20,
   "id": "fb09b71c",
   "metadata": {},
   "outputs": [],
   "source": [
    "# Split train set into traina dn validation sets\n",
    "X_train, X_val, y_train, y_val = train_test_split(train_data_shuffled, train_labels_shuffled, test_size=0.2)"
   ]
  },
  {
   "cell_type": "code",
   "execution_count": 21,
   "id": "5d1cebce",
   "metadata": {},
   "outputs": [],
   "source": [
    "# Converting train, test, validation sets into dataframes for easy access later during training\n",
    "train_df = pd.DataFrame({'input': X_train, 'labels': y_train})\n",
    "val_df = pd.DataFrame({'input': X_val, 'labels': y_val})\n",
    "test_df = pd.DataFrame({'input': test_input, 'labels': test_labels})"
   ]
  },
  {
   "cell_type": "code",
   "execution_count": 24,
   "id": "d1798713",
   "metadata": {},
   "outputs": [
    {
     "name": "stdout",
     "output_type": "stream",
     "text": [
      "Shape of train data: (2880000, 2)\n",
      "Shape of validation data: (720000, 2)\n",
      "Shape of train data: (400000, 2)\n"
     ]
    }
   ],
   "source": [
    "# Shapes of each set\n",
    "print(f\"Shape of train data: {train_df.shape}\")\n",
    "print(f\"Shape of validation data: {val_df.shape}\")\n",
    "print(f\"Shape of train data: {test_df.shape}\")"
   ]
  },
  {
   "cell_type": "code",
   "execution_count": 25,
   "id": "c27d3b39",
   "metadata": {},
   "outputs": [],
   "source": [
    "# Save dataframes as csv files. Gzip compression is applied to reduce the size of each csv file\n",
    "train_df.to_csv(os.path.join(dest_folder, \"train_text.csv.gz\"), index=False, compression='gzip')\n",
    "val_df.to_csv(os.path.join(dest_folder, \"val_text.csv.gz\"), index=False, compression='gzip')\n",
    "test_df.to_csv(os.path.join(dest_folder, \"test_text.csv.gz\"), index=False, compression='gzip')"
   ]
  },
  {
   "cell_type": "code",
   "execution_count": 26,
   "id": "0667c7c7",
   "metadata": {},
   "outputs": [
    {
     "name": "stdout",
     "output_type": "stream",
     "text": [
      "  adding: home/jupyter/train_data/ (stored 0%)\n",
      "Copying file://train_data.zip [Content-Type=application/zip]...\n",
      "Removing file://train_data.zip...] 100% Done                                    \n",
      "\n",
      "Operation completed over 1 objects/198.0 B.                                      \n"
     ]
    }
   ],
   "source": [
    "# If required, move the final train dataset back to GCS bucket. To train using AI Platform, train data needs to be in a GCS bucket.\n",
    "! mv /home/jupyter/train_data ./\n",
    "! zip -r train_data.zip ./train_data\n",
    "! gsutil -m mv train_data.zip gs://text-analysis-323506/"
   ]
  },
  {
   "cell_type": "code",
   "execution_count": null,
   "id": "fdccf357",
   "metadata": {},
   "outputs": [],
   "source": []
  }
 ],
 "metadata": {
  "environment": {
   "name": "tf2-gpu.2-6.m78",
   "type": "gcloud",
   "uri": "gcr.io/deeplearning-platform-release/tf2-gpu.2-6:m78"
  },
  "kernelspec": {
   "display_name": "Python 3",
   "language": "python",
   "name": "python3"
  },
  "language_info": {
   "codemirror_mode": {
    "name": "ipython",
    "version": 3
   },
   "file_extension": ".py",
   "mimetype": "text/x-python",
   "name": "python",
   "nbconvert_exporter": "python",
   "pygments_lexer": "ipython3",
   "version": "3.7.10"
  }
 },
 "nbformat": 4,
 "nbformat_minor": 5
}
