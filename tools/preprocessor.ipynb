{
 "cells": [
  {
   "cell_type": "markdown",
   "id": "fa80da04",
   "metadata": {},
   "source": [
    "# Preprocessor"
   ]
  },
  {
   "cell_type": "code",
   "execution_count": 1,
   "id": "966a6ca8",
   "metadata": {},
   "outputs": [
    {
     "data": {
      "text/html": [
       "<style>.container { width:100% !important; }</style>"
      ],
      "text/plain": [
       "<IPython.core.display.HTML object>"
      ]
     },
     "metadata": {},
     "output_type": "display_data"
    }
   ],
   "source": [
    "from IPython.core.display import display, HTML\n",
    "display(HTML(\"<style>.container { width:100% !important; }</style>\"))"
   ]
  },
  {
   "cell_type": "code",
   "execution_count": 2,
   "id": "e58a6eda",
   "metadata": {},
   "outputs": [],
   "source": [
    "import os\n",
    "import shutil\n",
    "import numpy as np\n",
    "import pandas as pd\n",
    "\n",
    "from sklearn.utils import shuffle\n",
    "\n",
    "# from tensorflow.keras.utils import to_categorical\n",
    "from sklearn.model_selection import train_test_split"
   ]
  },
  {
   "cell_type": "code",
   "execution_count": 3,
   "id": "df831eba",
   "metadata": {},
   "outputs": [],
   "source": [
    "train_file = \"/home/jupyter/data/train.ft.txt\"\n",
    "test_file = \"/home/jupyter/data/test.ft.txt\"\n",
    "\n",
    "dest_folder = \"/home/jupyter/train_data\"\n",
    "\n",
    "if not os.path.exists(dest_folder):\n",
    "    os.makedirs(dest_folder, exist_ok=True)"
   ]
  },
  {
   "cell_type": "code",
   "execution_count": 4,
   "id": "4046e86e",
   "metadata": {},
   "outputs": [],
   "source": [
    "def load_data(file_name):\n",
    "    data = []\n",
    "    with open(file_name, 'r') as fstream:\n",
    "        data = fstream.readlines()\n",
    "    fstream.close()\n",
    "    return data"
   ]
  },
  {
   "cell_type": "code",
   "execution_count": 5,
   "id": "3992f73b",
   "metadata": {},
   "outputs": [],
   "source": [
    "train_data = load_data(train_file)\n",
    "test_data = load_data(test_file)"
   ]
  },
  {
   "cell_type": "code",
   "execution_count": 6,
   "id": "685d1026",
   "metadata": {},
   "outputs": [
    {
     "data": {
      "text/plain": [
       "'__label__2 Stuning even for the non-gamer: This sound track was beautiful! It paints the senery in your mind so well I would recomend it even to people who hate vid. game music! I have played the game Chrono Cross but out of all of the games I have ever played it has the best music! It backs away from crude keyboarding and takes a fresher step with grate guitars and soulful orchestras. It would impress anyone who cares to listen! ^_^\\n'"
      ]
     },
     "execution_count": 6,
     "metadata": {},
     "output_type": "execute_result"
    }
   ],
   "source": [
    "train_data[0]"
   ]
  },
  {
   "cell_type": "code",
   "execution_count": 7,
   "id": "2bb3a4be",
   "metadata": {},
   "outputs": [],
   "source": [
    "def get_data_labels(text_lines):\n",
    "    data = []\n",
    "    labels = []\n",
    "    \n",
    "    for tline in text_lines:\n",
    "        tline = tline.split(maxsplit=1)\n",
    "        data.append(tline[1])\n",
    "        label = 1 if tline[0] == '__label__1' else 0\n",
    "        labels.append(label)\n",
    "    return data, labels"
   ]
  },
  {
   "cell_type": "code",
   "execution_count": 8,
   "id": "18cb7ab9",
   "metadata": {},
   "outputs": [],
   "source": [
    "train_input, train_labels = get_data_labels(train_data)\n",
    "test_input, test_labels = get_data_labels(test_data)"
   ]
  },
  {
   "cell_type": "code",
   "execution_count": 9,
   "id": "ccafdc62",
   "metadata": {},
   "outputs": [],
   "source": [
    "train_data_shuffled, train_labels_shuffled = shuffle(train_input, train_labels)"
   ]
  },
  {
   "cell_type": "code",
   "execution_count": 10,
   "id": "6037995d",
   "metadata": {},
   "outputs": [],
   "source": [
    "X_train, X_val, y_train, y_val = train_test_split(train_data_shuffled, train_labels_shuffled, test_size=0.2)"
   ]
  },
  {
   "cell_type": "code",
   "execution_count": 11,
   "id": "cfc8e7c7",
   "metadata": {},
   "outputs": [],
   "source": [
    "train_df = pd.DataFrame({'input': X_train, 'label': y_train})\n",
    "val_df = pd.DataFrame({'input': X_val, 'label': y_val})\n",
    "test_df = pd.DataFrame({'input': test_input, 'label': test_labels})"
   ]
  },
  {
   "cell_type": "code",
   "execution_count": 12,
   "id": "35b1f7a1",
   "metadata": {},
   "outputs": [],
   "source": [
    "test_df.to_csv(os.path.join(dest_folder, \"test_text.csv\"))\n",
    "train_df.to_csv(os.path.join(dest_folder, \"train_text.csv\"))\n",
    "val_df.to_csv(os.path.join(dest_folder, \"val_text.csv\"))"
   ]
  },
  {
   "cell_type": "code",
   "execution_count": null,
   "id": "f4200fbf",
   "metadata": {},
   "outputs": [],
   "source": []
  }
 ],
 "metadata": {
  "environment": {
   "name": "tf2-gpu.2-5.m76",
   "type": "gcloud",
   "uri": "gcr.io/deeplearning-platform-release/tf2-gpu.2-5:m76"
  },
  "kernelspec": {
   "display_name": "Python 3",
   "language": "python",
   "name": "python3"
  },
  "language_info": {
   "codemirror_mode": {
    "name": "ipython",
    "version": 3
   },
   "file_extension": ".py",
   "mimetype": "text/x-python",
   "name": "python",
   "nbconvert_exporter": "python",
   "pygments_lexer": "ipython3",
   "version": "3.7.10"
  }
 },
 "nbformat": 4,
 "nbformat_minor": 5
}
